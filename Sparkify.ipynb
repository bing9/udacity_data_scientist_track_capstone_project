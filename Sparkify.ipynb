{
 "cells": [
  {
   "cell_type": "markdown",
   "metadata": {},
   "source": [
    "# Sparkify Project Workspace\n",
    "This workspace contains a tiny subset (128MB) of the full dataset available (12GB). Feel free to use this workspace to build your project, or to explore a smaller subset with Spark before deploying your cluster on the cloud. Instructions for setting up your Spark cluster is included in the last lesson of the Extracurricular Spark Course content.\n",
    "\n",
    "You can follow the steps below to guide your data analysis and model building portion of this project."
   ]
  },
  {
   "cell_type": "code",
   "execution_count": 1,
   "metadata": {},
   "outputs": [],
   "source": [
    "# import libraries\n",
    "import pandas as pd\n",
    "from pyspark.sql.functions import avg, col, concat, desc, explode, lit, min, max, split, udf, isnull, sum, countDistinct, count\n",
    "import pyspark.sql.functions as sf\n",
    "from pyspark.sql import Window\n",
    "from pyspark.sql.types import IntegerType, NullType\n",
    "import datetime\n",
    "\n",
    "from pyspark.ml import Pipeline\n",
    "from pyspark.ml.classification import LogisticRegression, DecisionTreeClassifier\n",
    "from pyspark.ml.feature import VectorAssembler, StandardScaler\n",
    "from pyspark.ml.evaluation import MulticlassClassificationEvaluator\n",
    "from pyspark.ml.tuning import CrossValidator, ParamGridBuilder\n",
    "\n",
    "import seaborn as sns\n",
    "import matplotlib.pyplot as plt\n",
    "plt.rcParams[\"figure.figsize\"] = (30,5)\n",
    "sns.set_style('whitegrid')\n",
    "import numpy as np"
   ]
  },
  {
   "cell_type": "code",
   "execution_count": 2,
   "metadata": {},
   "outputs": [],
   "source": [
    "# create a Spark session\n",
    "from pyspark.sql import SparkSession\n",
    "spark = SparkSession \\\n",
    "    .builder \\\n",
    "    .appName(\"Sparkify\") \\\n",
    "    .getOrCreate()"
   ]
  },
  {
   "cell_type": "markdown",
   "metadata": {},
   "source": [
    "# Load and Clean Dataset\n",
    "In this workspace, the mini-dataset file is `mini_sparkify_event_data.json`. Load and clean the dataset, checking for invalid or missing data - for example, records without userids or sessionids. "
   ]
  },
  {
   "cell_type": "code",
   "execution_count": 3,
   "metadata": {},
   "outputs": [
    {
     "name": "stdout",
     "output_type": "stream",
     "text": [
      "cvModel_dt.model\t       Sparkify.ipynb\t  spark-warehouse\r\n",
      "mini_sparkify_event_data.json  Sparkify-zh.ipynb\r\n"
     ]
    }
   ],
   "source": [
    "!ls"
   ]
  },
  {
   "cell_type": "code",
   "execution_count": 4,
   "metadata": {},
   "outputs": [
    {
     "data": {
      "text/plain": [
       "DataFrame[artist: string, auth: string, firstName: string, gender: string, itemInSession: bigint, lastName: string, length: double, level: string, location: string, method: string, page: string, registration: bigint, sessionId: bigint, song: string, status: bigint, ts: bigint, userAgent: string, userId: string]"
      ]
     },
     "execution_count": 4,
     "metadata": {},
     "output_type": "execute_result"
    }
   ],
   "source": [
    "# Read in full sparkify dataset\n",
    "# event_data = \"s3n://dsnd-sparkify/sparkify_event_data.json\"\n",
    "sparkify_data = 'mini_sparkify_event_data.json'\n",
    "df = spark.read.json(sparkify_data)\n",
    "df.persist()"
   ]
  },
  {
   "cell_type": "markdown",
   "metadata": {},
   "source": [
    "# Exploratory Data Analysis\n",
    "When you're working with the full dataset, perform EDA by loading a small subset of the data and doing basic manipulations within Spark. In this workspace, you are already provided a small subset of data you can explore.\n",
    "\n",
    "### Define Churn\n",
    "\n",
    "Once you've done some preliminary analysis, create a column `Churn` to use as the label for your model. I suggest using the `Cancellation Confirmation` events to define your churn, which happen for both paid and free users. As a bonus task, you can also look into the `Downgrade` events.\n",
    "\n",
    "### Explore Data\n",
    "Once you've defined churn, perform some exploratory data analysis to observe the behavior for users who stayed vs users who churned. You can start by exploring aggregates on these two groups of users, observing how much of a specific action they experienced per a certain time unit or number of songs played."
   ]
  },
  {
   "cell_type": "code",
   "execution_count": 5,
   "metadata": {},
   "outputs": [
    {
     "data": {
      "text/plain": [
       "DataFrame[summary: string, artist: string, auth: string, firstName: string, gender: string, itemInSession: string, lastName: string, length: string, level: string, location: string, method: string, page: string, registration: string, sessionId: string, song: string, status: string, ts: string, userAgent: string, userId: string]"
      ]
     },
     "execution_count": 5,
     "metadata": {},
     "output_type": "execute_result"
    }
   ],
   "source": [
    "df.describe()"
   ]
  },
  {
   "cell_type": "code",
   "execution_count": 6,
   "metadata": {},
   "outputs": [
    {
     "name": "stdout",
     "output_type": "stream",
     "text": [
      "root\n",
      " |-- artist: string (nullable = true)\n",
      " |-- auth: string (nullable = true)\n",
      " |-- firstName: string (nullable = true)\n",
      " |-- gender: string (nullable = true)\n",
      " |-- itemInSession: long (nullable = true)\n",
      " |-- lastName: string (nullable = true)\n",
      " |-- length: double (nullable = true)\n",
      " |-- level: string (nullable = true)\n",
      " |-- location: string (nullable = true)\n",
      " |-- method: string (nullable = true)\n",
      " |-- page: string (nullable = true)\n",
      " |-- registration: long (nullable = true)\n",
      " |-- sessionId: long (nullable = true)\n",
      " |-- song: string (nullable = true)\n",
      " |-- status: long (nullable = true)\n",
      " |-- ts: long (nullable = true)\n",
      " |-- userAgent: string (nullable = true)\n",
      " |-- userId: string (nullable = true)\n",
      "\n"
     ]
    }
   ],
   "source": [
    "df.printSchema()"
   ]
  },
  {
   "cell_type": "code",
   "execution_count": 7,
   "metadata": {},
   "outputs": [],
   "source": [
    "df.createOrReplaceTempView(\"churn_data\")"
   ]
  },
  {
   "cell_type": "code",
   "execution_count": 8,
   "metadata": {
    "scrolled": true
   },
   "outputs": [
    {
     "name": "stdout",
     "output_type": "stream",
     "text": [
      "+--------------------+\n",
      "|                page|\n",
      "+--------------------+\n",
      "|              Cancel|\n",
      "|    Submit Downgrade|\n",
      "|         Thumbs Down|\n",
      "|                Home|\n",
      "|           Downgrade|\n",
      "|         Roll Advert|\n",
      "|              Logout|\n",
      "|       Save Settings|\n",
      "|Cancellation Conf...|\n",
      "|               About|\n",
      "| Submit Registration|\n",
      "|            Settings|\n",
      "|               Login|\n",
      "|            Register|\n",
      "|     Add to Playlist|\n",
      "|          Add Friend|\n",
      "|            NextSong|\n",
      "|           Thumbs Up|\n",
      "|                Help|\n",
      "|             Upgrade|\n",
      "+--------------------+\n",
      "only showing top 20 rows\n",
      "\n"
     ]
    }
   ],
   "source": [
    "spark.sql(\"SELECT distinct page FROM churn_data\").show()"
   ]
  },
  {
   "cell_type": "code",
   "execution_count": 9,
   "metadata": {},
   "outputs": [],
   "source": [
    "# Defining Churn customer by field cancellation confirmation"
   ]
  },
  {
   "cell_type": "code",
   "execution_count": 10,
   "metadata": {
    "scrolled": true
   },
   "outputs": [
    {
     "name": "stdout",
     "output_type": "stream",
     "text": [
      "+------+-----+\n",
      "|userID|churn|\n",
      "+------+-----+\n",
      "|100005|    1|\n",
      "|300007|    1|\n",
      "|100011|    1|\n",
      "|100012|    1|\n",
      "|   101|    1|\n",
      "+------+-----+\n",
      "only showing top 5 rows\n",
      "\n"
     ]
    }
   ],
   "source": [
    "# Firstly write query to find the customers having cancellation confirmatio\n",
    "spark.sql(\"\"\"SELECT DISTINCT userID, 1 as churn\n",
    "          FROM churn_data\n",
    "        WHERE page = 'Cancellation Confirmation' \"\"\").show(5)"
   ]
  },
  {
   "cell_type": "code",
   "execution_count": 11,
   "metadata": {
    "scrolled": true
   },
   "outputs": [],
   "source": [
    "# Then join it back to the original datasets with defined churn\n",
    "churn_data = spark.sql(\"\"\"\n",
    "SELECT sq1.*, sq2.churn\n",
    "\n",
    "FROM churn_data as sq1\n",
    "\n",
    "left join \n",
    "(\n",
    "SELECT DISTINCT userID, 1 as churn\n",
    "          FROM churn_data\n",
    "        WHERE page = 'Cancellation Confirmation') as sq2\n",
    "\n",
    "on sq1.userID = sq2.userID\"\"\")"
   ]
  },
  {
   "cell_type": "code",
   "execution_count": 12,
   "metadata": {},
   "outputs": [],
   "source": [
    "churn_data = churn_data.fillna(0, subset = ['churn'])"
   ]
  },
  {
   "cell_type": "code",
   "execution_count": 13,
   "metadata": {},
   "outputs": [
    {
     "name": "stdout",
     "output_type": "stream",
     "text": [
      "+-----+------+\n",
      "|churn| count|\n",
      "+-----+------+\n",
      "|    1| 44864|\n",
      "|    0|241636|\n",
      "+-----+------+\n",
      "\n"
     ]
    }
   ],
   "source": [
    "churn_data.groupby('churn').count().show()"
   ]
  },
  {
   "cell_type": "markdown",
   "metadata": {},
   "source": [
    "## Convert timestamp to time"
   ]
  },
  {
   "cell_type": "code",
   "execution_count": 14,
   "metadata": {},
   "outputs": [],
   "source": [
    "get_time = udf(lambda x: datetime.datetime.fromtimestamp(x / 1000.0).strftime(\"%Y-%m-%d %H:%M:%S\"))\n",
    "get_date = udf(lambda x: datetime.datetime.fromtimestamp(x / 1000.0).strftime(\"%Y-%m-%d\"))\n",
    "churn_data = churn_data.withColumn(\"date_time\", get_time(churn_data.ts)).withColumn(\"date\", get_date(churn_data.ts))"
   ]
  },
  {
   "cell_type": "code",
   "execution_count": 15,
   "metadata": {},
   "outputs": [
    {
     "name": "stdout",
     "output_type": "stream",
     "text": [
      "+----------------+---------+---------+------+-------------+--------+---------+-----+--------------------+------+--------+-------------+---------+-----------------+------+-------------+--------------------+------+-----+-------------------+----------+\n",
      "|          artist|     auth|firstName|gender|itemInSession|lastName|   length|level|            location|method|    page| registration|sessionId|             song|status|           ts|           userAgent|userId|churn|          date_time|      date|\n",
      "+----------------+---------+---------+------+-------------+--------+---------+-----+--------------------+------+--------+-------------+---------+-----------------+------+-------------+--------------------+------+-----+-------------------+----------+\n",
      "|  Martha Tilston|Logged In|    Colin|     M|           50| Freeman|277.89016| paid|     Bakersfield, CA|   PUT|NextSong|1538173362000|       29|        Rockpools|   200|1538352117000|Mozilla/5.0 (Wind...|    30|    0|2018-10-01 00:01:57|2018-10-01|\n",
      "|Five Iron Frenzy|Logged In|    Micah|     M|           79|    Long|236.09424| free|Boston-Cambridge-...|   PUT|NextSong|1538331630000|        8|           Canada|   200|1538352180000|\"Mozilla/5.0 (Win...|     9|    0|2018-10-01 00:03:00|2018-10-01|\n",
      "|    Adam Lambert|Logged In|    Colin|     M|           51| Freeman| 282.8273| paid|     Bakersfield, CA|   PUT|NextSong|1538173362000|       29|Time For Miracles|   200|1538352394000|Mozilla/5.0 (Wind...|    30|    0|2018-10-01 00:06:34|2018-10-01|\n",
      "+----------------+---------+---------+------+-------------+--------+---------+-----+--------------------+------+--------+-------------+---------+-----------------+------+-------------+--------------------+------+-----+-------------------+----------+\n",
      "only showing top 3 rows\n",
      "\n"
     ]
    }
   ],
   "source": [
    "churn_data.show(3)"
   ]
  },
  {
   "cell_type": "markdown",
   "metadata": {},
   "source": [
    "## Drop Null Values"
   ]
  },
  {
   "cell_type": "code",
   "execution_count": 16,
   "metadata": {},
   "outputs": [
    {
     "data": {
      "text/plain": [
       "286500"
      ]
     },
     "execution_count": 16,
     "metadata": {},
     "output_type": "execute_result"
    }
   ],
   "source": [
    "churn_data.count()\n",
    "#Count before drop NA"
   ]
  },
  {
   "cell_type": "code",
   "execution_count": 17,
   "metadata": {},
   "outputs": [
    {
     "name": "stdout",
     "output_type": "stream",
     "text": [
      "+----------------+---------+---------+------+-------------+--------+---------+-----+--------------------+------+--------+-------------+---------+---------+------+-------------+--------------------+------+-----+-------------------+----------+\n",
      "|          artist|     auth|firstName|gender|itemInSession|lastName|   length|level|            location|method|    page| registration|sessionId|     song|status|           ts|           userAgent|userId|churn|          date_time|      date|\n",
      "+----------------+---------+---------+------+-------------+--------+---------+-----+--------------------+------+--------+-------------+---------+---------+------+-------------+--------------------+------+-----+-------------------+----------+\n",
      "|  Martha Tilston|Logged In|    Colin|     M|           50| Freeman|277.89016| paid|     Bakersfield, CA|   PUT|NextSong|1538173362000|       29|Rockpools|   200|1538352117000|Mozilla/5.0 (Wind...|    30|    0|2018-10-01 00:01:57|2018-10-01|\n",
      "|Five Iron Frenzy|Logged In|    Micah|     M|           79|    Long|236.09424| free|Boston-Cambridge-...|   PUT|NextSong|1538331630000|        8|   Canada|   200|1538352180000|\"Mozilla/5.0 (Win...|     9|    0|2018-10-01 00:03:00|2018-10-01|\n",
      "+----------------+---------+---------+------+-------------+--------+---------+-----+--------------------+------+--------+-------------+---------+---------+------+-------------+--------------------+------+-----+-------------------+----------+\n",
      "only showing top 2 rows\n",
      "\n"
     ]
    }
   ],
   "source": [
    "churn_data.show(2)"
   ]
  },
  {
   "cell_type": "code",
   "execution_count": 18,
   "metadata": {},
   "outputs": [
    {
     "data": {
      "text/plain": [
       "DataFrame[artist: string, auth: string, firstName: string, gender: string, itemInSession: bigint, lastName: string, length: double, level: string, location: string, method: string, page: string, registration: bigint, sessionId: bigint, song: string, status: bigint, ts: bigint, userAgent: string, userId: string, churn: int, date_time: string, date: string]"
      ]
     },
     "execution_count": 18,
     "metadata": {},
     "output_type": "execute_result"
    }
   ],
   "source": [
    "churn_data.dropna(how = \"any\")"
   ]
  },
  {
   "cell_type": "code",
   "execution_count": 19,
   "metadata": {},
   "outputs": [
    {
     "data": {
      "text/plain": [
       "286500"
      ]
     },
     "execution_count": 19,
     "metadata": {},
     "output_type": "execute_result"
    }
   ],
   "source": [
    "churn_data.count()\n",
    "#Count after drop NA"
   ]
  },
  {
   "cell_type": "markdown",
   "metadata": {},
   "source": [
    "# Feature Engineering\n",
    "Once you've familiarized yourself with the data, build out the features you find promising to train your model on. To work with the full dataset, you can follow the following steps.\n",
    "- Write a script to extract the necessary features from the smaller subset of data\n",
    "- Ensure that your script is scalable, using the best practices discussed in Lesson 3\n",
    "- Try your script on the full data set, debugging your script if necessary\n",
    "\n",
    "If you are working in the classroom workspace, you can just extract features based on the small subset of data contained here. Be sure to transfer over this work to the larger dataset when you work on your Spark cluster."
   ]
  },
  {
   "cell_type": "markdown",
   "metadata": {},
   "source": [
    "## Feature Engineering logic\n",
    "What are the potential reason for churn and incorporate these features in the model to predict the customer churn:\n",
    "1. Customer taste and availability of music\n",
    " * - If the customer liked/ listened to most popular music (played by a large number of people). Then this customer more likely finds songs he/she likes on the platform. This needs then below features:\n",
    " * - Song total played by a number of times\n",
    " * - Song total played by a number of people\n",
    "2. Customer lock-in (if the customer has spent already a lot of time in Sparkify,  it becomes difficult to change platform.)\n",
    " * - How many days have the customer been with the platform (Max timestamp - min timestamp)\n",
    " * - How many active days the customer with the platform (Count distinct timestamp days)\n",
    " * - Days active/ Days total\n",
    " * - Customer played songs total\n",
    "3. Other existing features to convert to numeric\n",
    " * - Gender\n",
    " * - Free or Paid customer\n",
    " * - Number of Thumb ups\n",
    " * - Number of Thumb downs"
   ]
  },
  {
   "cell_type": "code",
   "execution_count": 20,
   "metadata": {},
   "outputs": [
    {
     "data": {
      "text/plain": [
       "DataFrame[artist: string, auth: string, firstName: string, gender: string, itemInSession: bigint, lastName: string, length: double, level: string, location: string, method: string, page: string, registration: bigint, sessionId: bigint, song: string, status: bigint, ts: bigint, userAgent: string, userId: string, churn: int, date_time: string, date: string]"
      ]
     },
     "execution_count": 20,
     "metadata": {},
     "output_type": "execute_result"
    }
   ],
   "source": [
    "churn_data.persist()"
   ]
  },
  {
   "cell_type": "markdown",
   "metadata": {},
   "source": [
    "### Feature 1 Customer Taste"
   ]
  },
  {
   "cell_type": "code",
   "execution_count": 21,
   "metadata": {},
   "outputs": [],
   "source": [
    "song_agg = churn_data.filter(churn_data.song != 'null').groupby(\"song\").agg(count(\"userId\").alias('number_of_played_times'), \n",
    "                                         countDistinct(\"userId\").alias('number_of_played_users'))"
   ]
  },
  {
   "cell_type": "code",
   "execution_count": 22,
   "metadata": {},
   "outputs": [
    {
     "name": "stdout",
     "output_type": "stream",
     "text": [
      "+--------------------+----------------------+----------------------+\n",
      "|                song|number_of_played_times|number_of_played_users|\n",
      "+--------------------+----------------------+----------------------+\n",
      "|              Heaven|                    86|                    58|\n",
      "|Never Gonna Be Al...|                    50|                    37|\n",
      "|Autumn Leaves (Al...|                     3|                     3|\n",
      "|             Sitting|                    17|                    16|\n",
      "|What's About To G...|                     1|                     1|\n",
      "+--------------------+----------------------+----------------------+\n",
      "only showing top 5 rows\n",
      "\n"
     ]
    }
   ],
   "source": [
    "song_agg.show(5)"
   ]
  },
  {
   "cell_type": "code",
   "execution_count": 23,
   "metadata": {},
   "outputs": [],
   "source": [
    "song_df = song_agg.toPandas()"
   ]
  },
  {
   "cell_type": "code",
   "execution_count": 24,
   "metadata": {},
   "outputs": [
    {
     "data": {
      "text/plain": [
       "58480"
      ]
     },
     "execution_count": 24,
     "metadata": {},
     "output_type": "execute_result"
    }
   ],
   "source": [
    "len(song_df)"
   ]
  },
  {
   "cell_type": "code",
   "execution_count": 25,
   "metadata": {},
   "outputs": [
    {
     "data": {
      "text/html": [
       "<div>\n",
       "<style scoped>\n",
       "    .dataframe tbody tr th:only-of-type {\n",
       "        vertical-align: middle;\n",
       "    }\n",
       "\n",
       "    .dataframe tbody tr th {\n",
       "        vertical-align: top;\n",
       "    }\n",
       "\n",
       "    .dataframe thead th {\n",
       "        text-align: right;\n",
       "    }\n",
       "</style>\n",
       "<table border=\"1\" class=\"dataframe\">\n",
       "  <thead>\n",
       "    <tr style=\"text-align: right;\">\n",
       "      <th></th>\n",
       "      <th>number_of_played_times</th>\n",
       "      <th>number_of_played_users</th>\n",
       "    </tr>\n",
       "  </thead>\n",
       "  <tbody>\n",
       "    <tr>\n",
       "      <th>count</th>\n",
       "      <td>58480.000000</td>\n",
       "      <td>58480.000000</td>\n",
       "    </tr>\n",
       "    <tr>\n",
       "      <th>mean</th>\n",
       "      <td>3.900616</td>\n",
       "      <td>3.454224</td>\n",
       "    </tr>\n",
       "    <tr>\n",
       "      <th>std</th>\n",
       "      <td>13.901180</td>\n",
       "      <td>7.002902</td>\n",
       "    </tr>\n",
       "    <tr>\n",
       "      <th>min</th>\n",
       "      <td>1.000000</td>\n",
       "      <td>1.000000</td>\n",
       "    </tr>\n",
       "    <tr>\n",
       "      <th>25%</th>\n",
       "      <td>1.000000</td>\n",
       "      <td>1.000000</td>\n",
       "    </tr>\n",
       "    <tr>\n",
       "      <th>50%</th>\n",
       "      <td>1.000000</td>\n",
       "      <td>1.000000</td>\n",
       "    </tr>\n",
       "    <tr>\n",
       "      <th>75%</th>\n",
       "      <td>3.000000</td>\n",
       "      <td>3.000000</td>\n",
       "    </tr>\n",
       "    <tr>\n",
       "      <th>max</th>\n",
       "      <td>1153.000000</td>\n",
       "      <td>190.000000</td>\n",
       "    </tr>\n",
       "  </tbody>\n",
       "</table>\n",
       "</div>"
      ],
      "text/plain": [
       "       number_of_played_times  number_of_played_users\n",
       "count            58480.000000            58480.000000\n",
       "mean                 3.900616                3.454224\n",
       "std                 13.901180                7.002902\n",
       "min                  1.000000                1.000000\n",
       "25%                  1.000000                1.000000\n",
       "50%                  1.000000                1.000000\n",
       "75%                  3.000000                3.000000\n",
       "max               1153.000000              190.000000"
      ]
     },
     "execution_count": 25,
     "metadata": {},
     "output_type": "execute_result"
    }
   ],
   "source": [
    "song_df.describe()"
   ]
  },
  {
   "cell_type": "code",
   "execution_count": 26,
   "metadata": {},
   "outputs": [],
   "source": [
    "song_df.sort_values(by = 'number_of_played_times', ascending = False, inplace = True)"
   ]
  },
  {
   "cell_type": "code",
   "execution_count": 27,
   "metadata": {},
   "outputs": [],
   "source": [
    "top_100_by_played_times = song_df.iloc[:99, :3]"
   ]
  },
  {
   "cell_type": "code",
   "execution_count": 28,
   "metadata": {},
   "outputs": [
    {
     "data": {
      "text/html": [
       "<div>\n",
       "<style scoped>\n",
       "    .dataframe tbody tr th:only-of-type {\n",
       "        vertical-align: middle;\n",
       "    }\n",
       "\n",
       "    .dataframe tbody tr th {\n",
       "        vertical-align: top;\n",
       "    }\n",
       "\n",
       "    .dataframe thead th {\n",
       "        text-align: right;\n",
       "    }\n",
       "</style>\n",
       "<table border=\"1\" class=\"dataframe\">\n",
       "  <thead>\n",
       "    <tr style=\"text-align: right;\">\n",
       "      <th></th>\n",
       "      <th>song</th>\n",
       "      <th>number_of_played_times</th>\n",
       "      <th>number_of_played_users</th>\n",
       "    </tr>\n",
       "  </thead>\n",
       "  <tbody>\n",
       "    <tr>\n",
       "      <th>15878</th>\n",
       "      <td>You're The One</td>\n",
       "      <td>1153</td>\n",
       "      <td>190</td>\n",
       "    </tr>\n",
       "    <tr>\n",
       "      <th>7939</th>\n",
       "      <td>Undo</td>\n",
       "      <td>1026</td>\n",
       "      <td>176</td>\n",
       "    </tr>\n",
       "    <tr>\n",
       "      <th>27710</th>\n",
       "      <td>Revelry</td>\n",
       "      <td>854</td>\n",
       "      <td>177</td>\n",
       "    </tr>\n",
       "    <tr>\n",
       "      <th>7940</th>\n",
       "      <td>Sehr kosmisch</td>\n",
       "      <td>728</td>\n",
       "      <td>172</td>\n",
       "    </tr>\n",
       "    <tr>\n",
       "      <th>16475</th>\n",
       "      <td>Horn Concerto No. 4 in E flat K495: II. Romanc...</td>\n",
       "      <td>641</td>\n",
       "      <td>164</td>\n",
       "    </tr>\n",
       "  </tbody>\n",
       "</table>\n",
       "</div>"
      ],
      "text/plain": [
       "                                                    song  \\\n",
       "15878                                     You're The One   \n",
       "7939                                                Undo   \n",
       "27710                                            Revelry   \n",
       "7940                                       Sehr kosmisch   \n",
       "16475  Horn Concerto No. 4 in E flat K495: II. Romanc...   \n",
       "\n",
       "       number_of_played_times  number_of_played_users  \n",
       "15878                    1153                     190  \n",
       "7939                     1026                     176  \n",
       "27710                     854                     177  \n",
       "7940                      728                     172  \n",
       "16475                     641                     164  "
      ]
     },
     "execution_count": 28,
     "metadata": {},
     "output_type": "execute_result"
    }
   ],
   "source": [
    "top_100_by_played_times.head()"
   ]
  },
  {
   "cell_type": "code",
   "execution_count": 29,
   "metadata": {},
   "outputs": [],
   "source": [
    "#top_100_by_played_times.number_of_played_times.values"
   ]
  },
  {
   "cell_type": "code",
   "execution_count": 30,
   "metadata": {},
   "outputs": [
    {
     "data": {
      "text/plain": [
       "Text(0.5,1,'Songs played times distribution')"
      ]
     },
     "execution_count": 30,
     "metadata": {},
     "output_type": "execute_result"
    },
    {
     "data": {
      "image/png": "[encoded data removed]",
      "text/plain": [
       "<matplotlib.figure.Figure at 0x7fed0c4fb0f0>"
      ]
     },
     "metadata": {
      "needs_background": "light"
     },
     "output_type": "display_data"
    }
   ],
   "source": [
    "plt.hist( song_df.number_of_played_times.values, bins = 100, log = True)\n",
    "plt.title(\"Songs played times distribution\")"
   ]
  },
  {
   "cell_type": "code",
   "execution_count": 31,
   "metadata": {},
   "outputs": [],
   "source": [
    "churn_data_w_song_attribute = churn_data.join(song_agg, churn_data.song == song_agg.song, how = 'left').drop(song_agg.song)"
   ]
  },
  {
   "cell_type": "code",
   "execution_count": 32,
   "metadata": {
    "scrolled": false
   },
   "outputs": [
    {
     "name": "stdout",
     "output_type": "stream",
     "text": [
      "+-------------+---------+---------+------+-------------+--------+---------+-----+--------------------+------+--------+-------------+---------+------+-------------+--------------------+------+-----+-------------------+----------+--------------------+----------------------+----------------------+\n",
      "|       artist|     auth|firstName|gender|itemInSession|lastName|   length|level|            location|method|    page| registration|sessionId|status|           ts|           userAgent|userId|churn|          date_time|      date|                song|number_of_played_times|number_of_played_users|\n",
      "+-------------+---------+---------+------+-------------+--------+---------+-----+--------------------+------+--------+-------------+---------+------+-------------+--------------------+------+-----+-------------------+----------+--------------------+----------------------+----------------------+\n",
      "|Skeeter Davis|Logged In|  Dominic|     M|          126|  Torres|155.21914| paid|Chicago-Napervill...|   PUT|NextSong|1536269906000|      163|   200|1539871589000|\"Mozilla/5.0 (iPh...|200002|    0|2018-10-18 14:06:29|2018-10-18|(I Can't Help You...|                     1|                     1|\n",
      "|Parkway Drive|Logged In|  Destiny|     F|          115| Herring| 74.89261| free|Miami-Fort Lauder...|   PUT|NextSong|1536844410000|      947|   200|1539906266000|\"Mozilla/5.0 (Win...|    20|    0|2018-10-18 23:44:26|2018-10-18|                 ...|                     2|                     2|\n",
      "|          Wax|Logged In|   Teagan|     F|           12| Roberts| 41.01179| free|New Philadelphia-...|   PUT|NextSong|1537634865000|     1048|   200|1540068238000|Mozilla/5.0 (Wind...|    28|    1|2018-10-20 20:43:58|2018-10-20|                 ...|                     2|                     2|\n",
      "|      Pantera|Logged In|   Autumn|     F|          155|  Martin|336.32608| paid|     Gainesville, FL|   PUT|NextSong|1537749786000|      332|   200|1539141569000|\"Mozilla/5.0 (Win...|    77|    0|2018-10-10 03:19:29|2018-10-10|5 Minutes Alone [...|                     6|                     5|\n",
      "|      Pantera|Logged In|  Freedom|     F|          184| Aguilar|336.32608| paid|Charlotte-Concord...|   PUT|NextSong|1537034286000|     1063|   200|1540098952000|\"Mozilla/5.0 (Mac...|   136|    0|2018-10-21 05:15:52|2018-10-21|5 Minutes Alone [...|                     6|                     5|\n",
      "+-------------+---------+---------+------+-------------+--------+---------+-----+--------------------+------+--------+-------------+---------+------+-------------+--------------------+------+-----+-------------------+----------+--------------------+----------------------+----------------------+\n",
      "only showing top 5 rows\n",
      "\n"
     ]
    }
   ],
   "source": [
    "churn_data_w_song_attribute.show(5)"
   ]
  },
  {
   "cell_type": "markdown",
   "metadata": {},
   "source": [
    "### F2 Feature Customer Lock-in"
   ]
  },
  {
   "cell_type": "code",
   "execution_count": 33,
   "metadata": {},
   "outputs": [],
   "source": [
    "# Function to return null when 0.\n",
    "nullif = udf(lambda x: None if x ==0 else x, IntegerType())\n",
    "\n",
    "user_agg = churn_data_w_song_attribute.groupby(\"userId\").agg(min(\"ts\").alias('min_timestamp'), \n",
    "    max(\"ts\").alias('max_timestamp'), avg(\"number_of_played_times\").alias('avg_nbr_of_played_times'),\n",
    "    avg(\"number_of_played_users\").alias('avg_nbr_of_played_users'),\n",
    "    countDistinct(\"date\").alias('days_customer_active'), countDistinct(\"song\").alias('played_songs_total'),\n",
    "    countDistinct(\"sessionId\").alias('played_sessions_total'), count(\"userId\").alias('played_activity_total') )\\\n",
    "    .withColumn(\n",
    "            'days_customer_with_sparkify', \n",
    "            ((col(\"max_timestamp\") - col(\"min_timestamp\") ) /(1000*60*60*24)).cast(IntegerType())  + 1  )\\\n",
    "    .withColumn('days_active_vs_days_total', \n",
    "              ( col(\"days_customer_active\")/ nullif(col(\"days_customer_with_sparkify\") ) ) )"
   ]
  },
  {
   "cell_type": "code",
   "execution_count": 34,
   "metadata": {
    "scrolled": false
   },
   "outputs": [
    {
     "name": "stdout",
     "output_type": "stream",
     "text": [
      "+------+-------------+-------------+-----------------------+-----------------------+--------------------+------------------+---------------------+---------------------+---------------------------+-------------------------+\n",
      "|userId|min_timestamp|max_timestamp|avg_nbr_of_played_times|avg_nbr_of_played_users|days_customer_active|played_songs_total|played_sessions_total|played_activity_total|days_customer_with_sparkify|days_active_vs_days_total|\n",
      "+------+-------------+-------------+-----------------------+-----------------------+--------------------+------------------+---------------------+---------------------+---------------------------+-------------------------+\n",
      "|200002|1538393430000|1542324354000|      35.75968992248062|      21.10594315245478|                   7|               378|                    6|                  474|                         46|      0.15217391304347827|\n",
      "|100010|1539003534000|1542823952000|      56.27272727272727|      26.62181818181818|                   7|               269|                    7|                  381|                         45|      0.15555555555555556|\n",
      "|   125|1539317144000|1539318918000|                 12.625|                 11.375|                   1|                 8|                    1|                   11|                          1|                      1.0|\n",
      "|   124|1538407030000|1543590766000|     54.220397156165724|     25.104437362098555|                  33|              3339|                   29|                 4825|                         60|                     0.55|\n",
      "|    51|1538398632000|1539761972000|      57.09047844623401|     25.290857413548082|                  13|              1854|                   10|                 2464|                         16|                   0.8125|\n",
      "+------+-------------+-------------+-----------------------+-----------------------+--------------------+------------------+---------------------+---------------------+---------------------------+-------------------------+\n",
      "only showing top 5 rows\n",
      "\n"
     ]
    }
   ],
   "source": [
    "user_agg.show(5)"
   ]
  },
  {
   "cell_type": "markdown",
   "metadata": {},
   "source": [
    "### F3 Other Features from Existing data"
   ]
  },
  {
   "cell_type": "code",
   "execution_count": 35,
   "metadata": {},
   "outputs": [
    {
     "name": "stdout",
     "output_type": "stream",
     "text": [
      "+------+------+\n",
      "|gender| count|\n",
      "+------+------+\n",
      "|     F|154578|\n",
      "|  null|  8346|\n",
      "|     M|123576|\n",
      "+------+------+\n",
      "\n"
     ]
    }
   ],
   "source": [
    "churn_data_w_song_attribute.groupby('gender').count().show()"
   ]
  },
  {
   "cell_type": "code",
   "execution_count": 36,
   "metadata": {},
   "outputs": [
    {
     "name": "stdout",
     "output_type": "stream",
     "text": [
      "+-----+------+\n",
      "|level| count|\n",
      "+-----+------+\n",
      "| free| 58338|\n",
      "| paid|228162|\n",
      "+-----+------+\n",
      "\n"
     ]
    }
   ],
   "source": [
    "churn_data_w_song_attribute.groupby('level').count().show()"
   ]
  },
  {
   "cell_type": "code",
   "execution_count": 37,
   "metadata": {},
   "outputs": [],
   "source": [
    "# Function to return null when 0.\n",
    "nullif = udf(lambda x: None if x ==0 else x, IntegerType())\n",
    "gender_convert = udf(lambda x: 1 if x =='M' else 0, IntegerType())\n",
    "free_paid_convert = udf(lambda x: 1 if x =='free' else 0, IntegerType())\n",
    "thumbups = udf(lambda x: 1 if x =='Thumbs Up' else 0, IntegerType())\n",
    "thumbdowns = udf(lambda x: 1 if x =='Thumbs Down' else 0, IntegerType())\n",
    "\n",
    "user_agg = churn_data_w_song_attribute.withColumn('gender_conv', gender_convert(col(\"gender\")))\\\n",
    "    .withColumn('level_conv', free_paid_convert(col(\"level\")))\\\n",
    "    .withColumn('thumb_ups', thumbups(col(\"page\")))\\\n",
    "    .withColumn('thumb_downs', thumbdowns(col(\"page\")))\\\n",
    "    .groupby(\"userId\").agg(min(\"ts\").alias('min_timestamp'), \n",
    "            max(\"ts\").alias('max_timestamp'), avg(\"number_of_played_times\").alias('avg_nbr_of_played_times'),\n",
    "            avg(\"number_of_played_users\").alias('avg_nbr_of_played_users'),\n",
    "            avg(\"gender_conv\").alias('gender'),\n",
    "            avg(\"level_conv\").alias('level_conv'),\n",
    "            countDistinct(\"date\").alias('days_customer_active'), countDistinct(\"song\").alias('played_songs_total'),\n",
    "            countDistinct(\"sessionId\").alias('played_sessions_total'), count(\"userId\").alias('played_activity_total'), \n",
    "            max(\"churn\").alias('churn'), \n",
    "            sum('thumb_ups').alias('thumb_ups'), sum('thumb_downs').alias('thumb_downs'))\\\n",
    "    .withColumn(\n",
    "            'days_customer_with_sparkify', \n",
    "            ((col(\"max_timestamp\") - col(\"min_timestamp\") ) /(1000*60*60*24)).cast(IntegerType())  + 1  )\\\n",
    "    .withColumn('days_active_vs_days_total', \n",
    "              ( col(\"days_customer_active\")/ nullif(col(\"days_customer_with_sparkify\") ) ) )"
   ]
  },
  {
   "cell_type": "code",
   "execution_count": 38,
   "metadata": {},
   "outputs": [
    {
     "name": "stdout",
     "output_type": "stream",
     "text": [
      "+------+-------------+-------------+-----------------------+-----------------------+------+-------------------+--------------------+------------------+---------------------+---------------------+-----+---------+-----------+---------------------------+-------------------------+\n",
      "|userId|min_timestamp|max_timestamp|avg_nbr_of_played_times|avg_nbr_of_played_users|gender|         level_conv|days_customer_active|played_songs_total|played_sessions_total|played_activity_total|churn|thumb_ups|thumb_downs|days_customer_with_sparkify|days_active_vs_days_total|\n",
      "+------+-------------+-------------+-----------------------+-----------------------+------+-------------------+--------------------+------------------+---------------------+---------------------+-----+---------+-----------+---------------------------+-------------------------+\n",
      "|200002|1538393430000|1542324354000|      35.75968992248062|      21.10594315245478|   1.0|0.25316455696202533|                   7|               378|                    6|                  474|    0|       21|          6|                         46|      0.15217391304347827|\n",
      "|100010|1539003534000|1542823952000|      56.27272727272727|      26.62181818181818|   0.0|                1.0|                   7|               269|                    7|                  381|    0|       17|          5|                         45|      0.15555555555555556|\n",
      "|   125|1539317144000|1539318918000|                 12.625|                 11.375|   1.0|                1.0|                   1|                 8|                    1|                   11|    1|        0|          0|                          1|                      1.0|\n",
      "|   124|1538407030000|1543590766000|     54.220397156165724|     25.104437362098555|   0.0|                0.0|                  33|              3339|                   29|                 4825|    0|      171|         41|                         60|                     0.55|\n",
      "|    51|1538398632000|1539761972000|      57.09047844623401|     25.290857413548082|   1.0|                0.0|                  13|              1854|                   10|                 2464|    1|      100|         21|                         16|                   0.8125|\n",
      "+------+-------------+-------------+-----------------------+-----------------------+------+-------------------+--------------------+------------------+---------------------+---------------------+-----+---------+-----------+---------------------------+-------------------------+\n",
      "only showing top 5 rows\n",
      "\n"
     ]
    }
   ],
   "source": [
    "user_agg.show(5)"
   ]
  },
  {
   "cell_type": "code",
   "execution_count": 39,
   "metadata": {},
   "outputs": [
    {
     "name": "stdout",
     "output_type": "stream",
     "text": [
      "+-----+-----+\n",
      "|churn|count|\n",
      "+-----+-----+\n",
      "|    1|   52|\n",
      "|    0|  174|\n",
      "+-----+-----+\n",
      "\n"
     ]
    }
   ],
   "source": [
    "user_agg.groupby(\"churn\").count().show()"
   ]
  },
  {
   "cell_type": "markdown",
   "metadata": {},
   "source": [
    "# Modeling\n",
    "Split the full dataset into train, test, and validation sets. Test out several of the machine learning methods you learned. Evaluate the accuracy of the various models, tuning parameters as necessary. Determine your winning model based on test accuracy and report results on the validation set. Since the churned users are a fairly small subset, I suggest using F1 score as the metric to optimize."
   ]
  },
  {
   "cell_type": "markdown",
   "metadata": {},
   "source": [
    "## Model Selection\n",
    "Here are the available classification models from Spark website: https://spark.apache.org/docs/latest/ml-classification-regression.html: \n",
    "- Logistic regression\n",
    "- Decision tree classifier\n",
    "- Random forest classifier\n",
    "- Gradient-boosted tree classifier\n",
    "- Multilayer perceptron classifier\n",
    "- Linear Support Vector Machine\n",
    "- One-vs-Rest classifier (a.k.a. One-vs-All)\n",
    "- Naive Bayes"
   ]
  },
  {
   "cell_type": "markdown",
   "metadata": {},
   "source": [
    "## Logistic Regression"
   ]
  },
  {
   "cell_type": "code",
   "execution_count": 40,
   "metadata": {},
   "outputs": [
    {
     "data": {
      "text/plain": [
       "DataFrame[userId: string, min_timestamp: bigint, max_timestamp: bigint, avg_nbr_of_played_times: double, avg_nbr_of_played_users: double, gender: double, level_conv: double, days_customer_active: bigint, played_songs_total: bigint, played_sessions_total: bigint, played_activity_total: bigint, churn: int, thumb_ups: bigint, thumb_downs: bigint, days_customer_with_sparkify: int, days_active_vs_days_total: double]"
      ]
     },
     "execution_count": 40,
     "metadata": {},
     "output_type": "execute_result"
    }
   ],
   "source": [
    "user_agg.persist()"
   ]
  },
  {
   "cell_type": "code",
   "execution_count": 41,
   "metadata": {},
   "outputs": [],
   "source": [
    "user_agg = user_agg.fillna(0)"
   ]
  },
  {
   "cell_type": "code",
   "execution_count": 42,
   "metadata": {},
   "outputs": [
    {
     "name": "stdout",
     "output_type": "stream",
     "text": [
      "root\n",
      " |-- userId: string (nullable = true)\n",
      " |-- min_timestamp: long (nullable = true)\n",
      " |-- max_timestamp: long (nullable = true)\n",
      " |-- avg_nbr_of_played_times: double (nullable = false)\n",
      " |-- avg_nbr_of_played_users: double (nullable = false)\n",
      " |-- gender: double (nullable = false)\n",
      " |-- level_conv: double (nullable = false)\n",
      " |-- days_customer_active: long (nullable = false)\n",
      " |-- played_songs_total: long (nullable = false)\n",
      " |-- played_sessions_total: long (nullable = false)\n",
      " |-- played_activity_total: long (nullable = false)\n",
      " |-- churn: integer (nullable = true)\n",
      " |-- thumb_ups: long (nullable = true)\n",
      " |-- thumb_downs: long (nullable = true)\n",
      " |-- days_customer_with_sparkify: integer (nullable = true)\n",
      " |-- days_active_vs_days_total: double (nullable = false)\n",
      "\n"
     ]
    }
   ],
   "source": [
    "user_agg.printSchema()"
   ]
  },
  {
   "cell_type": "code",
   "execution_count": 43,
   "metadata": {},
   "outputs": [],
   "source": [
    "features_to_include = user_agg.columns.copy()"
   ]
  },
  {
   "cell_type": "code",
   "execution_count": 44,
   "metadata": {},
   "outputs": [],
   "source": [
    "features_to_include.remove('userId')"
   ]
  },
  {
   "cell_type": "code",
   "execution_count": 45,
   "metadata": {},
   "outputs": [],
   "source": [
    "features_to_include.remove('churn')"
   ]
  },
  {
   "cell_type": "code",
   "execution_count": 46,
   "metadata": {},
   "outputs": [],
   "source": [
    "features_to_include.remove('min_timestamp')"
   ]
  },
  {
   "cell_type": "code",
   "execution_count": 47,
   "metadata": {},
   "outputs": [],
   "source": [
    "features_to_include.remove('max_timestamp')"
   ]
  },
  {
   "cell_type": "code",
   "execution_count": 48,
   "metadata": {
    "scrolled": true
   },
   "outputs": [
    {
     "data": {
      "text/plain": [
       "['avg_nbr_of_played_times',\n",
       " 'avg_nbr_of_played_users',\n",
       " 'gender',\n",
       " 'level_conv',\n",
       " 'days_customer_active',\n",
       " 'played_songs_total',\n",
       " 'played_sessions_total',\n",
       " 'played_activity_total',\n",
       " 'thumb_ups',\n",
       " 'thumb_downs',\n",
       " 'days_customer_with_sparkify',\n",
       " 'days_active_vs_days_total']"
      ]
     },
     "execution_count": 48,
     "metadata": {},
     "output_type": "execute_result"
    }
   ],
   "source": [
    "features_to_include"
   ]
  },
  {
   "cell_type": "code",
   "execution_count": 49,
   "metadata": {},
   "outputs": [],
   "source": [
    "assembler = VectorAssembler(inputCols=features_to_include, outputCol=\"Features\")\n",
    "data = assembler.transform(user_agg)"
   ]
  },
  {
   "cell_type": "code",
   "execution_count": 50,
   "metadata": {},
   "outputs": [],
   "source": [
    "scaler = StandardScaler(inputCol=\"Features\", outputCol=\"ScaledFeatures\", withStd=True)\n",
    "scalerModel = scaler.fit(data)\n",
    "data = scalerModel.transform(data)"
   ]
  },
  {
   "cell_type": "code",
   "execution_count": 51,
   "metadata": {},
   "outputs": [],
   "source": [
    "data = data.select(data.churn.alias(\"label\"), data.ScaledFeatures.alias(\"features\"))"
   ]
  },
  {
   "cell_type": "code",
   "execution_count": 52,
   "metadata": {},
   "outputs": [],
   "source": [
    "train, test = data.randomSplit([0.7, 0.3], seed=0)"
   ]
  },
  {
   "cell_type": "code",
   "execution_count": 53,
   "metadata": {},
   "outputs": [
    {
     "data": {
      "text/plain": [
       "[0.6747426560530807,\n",
       " 0.6348378674937205,\n",
       " 0.6776666326612678,\n",
       " 0.6448278774837305]"
      ]
     },
     "execution_count": 53,
     "metadata": {},
     "output_type": "execute_result"
    }
   ],
   "source": [
    "lrs =  LogisticRegression()\n",
    "\n",
    "paramGrid = ParamGridBuilder() \\\n",
    "    .addGrid(lrs.elasticNetParam,[0.1, 0.3]) \\\n",
    "    .addGrid(lrs.regParam,[0.1, 0.3]) \\\n",
    "    .build()\n",
    "\n",
    "crossval_lrs = CrossValidator(estimator=lrs,\n",
    "                          estimatorParamMaps=paramGrid,\n",
    "                          evaluator=MulticlassClassificationEvaluator(),\n",
    "                          numFolds=3)\n",
    "\n",
    "cvModel_lrs = crossval_lrs.fit(train)\n",
    "\n",
    "cvModel_lrs.avgMetrics"
   ]
  },
  {
   "cell_type": "code",
   "execution_count": 54,
   "metadata": {},
   "outputs": [],
   "source": [
    "results_lrs = cvModel_lrs.transform(test)"
   ]
  },
  {
   "cell_type": "code",
   "execution_count": 55,
   "metadata": {
    "scrolled": true
   },
   "outputs": [
    {
     "name": "stdout",
     "output_type": "stream",
     "text": [
      "pricesion is 1.0, recall is 0.15384615384615385, f1 score is 0.2666666666666667\n"
     ]
    }
   ],
   "source": [
    "tp = results_lrs.filter(\"label = 1 and prediction = 1.0\").count()\n",
    "fp = results_lrs.filter(\"label = 0 and prediction = 1.0\").count()\n",
    "fn = results_lrs.filter(\"label = 1 and prediction = 0.0\").count()\n",
    "precision = tp / (tp + fp) \n",
    "recall = tp / (tp + fn)\n",
    "f1 = 2*precision*recall / (precision+recall)\n",
    "print(f\"pricesion is {precision}, recall is {recall}, f1 score is {f1}\")"
   ]
  },
  {
   "cell_type": "code",
   "execution_count": 56,
   "metadata": {},
   "outputs": [
    {
     "name": "stdout",
     "output_type": "stream",
     "text": [
      "+-----+--------------------+--------------------+--------------------+----------+\n",
      "|label|            features|       rawPrediction|         probability|prediction|\n",
      "+-----+--------------------+--------------------+--------------------+----------+\n",
      "|    0|[3.09605633144509...|[1.28632034955156...|[0.78352371898967...|       0.0|\n",
      "|    0|[4.31047430589324...|[1.59013751115562...|[0.83063544904238...|       0.0|\n",
      "|    0|[4.52840460917592...|[1.77107119186296...|[0.85459083365188...|       0.0|\n",
      "|    0|[5.29046797482494...|[1.66083569968412...|[0.84035015390002...|       0.0|\n",
      "|    1|[4.58711267588198...|[1.19939135982402...|[0.76841649210009...|       0.0|\n",
      "+-----+--------------------+--------------------+--------------------+----------+\n",
      "only showing top 5 rows\n",
      "\n"
     ]
    }
   ],
   "source": [
    "results_lrs.show(5)"
   ]
  },
  {
   "cell_type": "markdown",
   "metadata": {},
   "source": [
    "## Refinement Decision Tree"
   ]
  },
  {
   "cell_type": "code",
   "execution_count": 67,
   "metadata": {
    "scrolled": true
   },
   "outputs": [],
   "source": [
    "features_to_include_2 = features_to_include.copy()"
   ]
  },
  {
   "cell_type": "code",
   "execution_count": 68,
   "metadata": {},
   "outputs": [],
   "source": [
    "features_to_include_2.remove('thumb_ups')"
   ]
  },
  {
   "cell_type": "code",
   "execution_count": 69,
   "metadata": {},
   "outputs": [],
   "source": [
    "features_to_include_2.remove('thumb_downs')"
   ]
  },
  {
   "cell_type": "code",
   "execution_count": 71,
   "metadata": {},
   "outputs": [
    {
     "data": {
      "text/plain": [
       "['avg_nbr_of_played_times',\n",
       " 'avg_nbr_of_played_users',\n",
       " 'gender',\n",
       " 'level_conv',\n",
       " 'days_customer_active',\n",
       " 'played_songs_total',\n",
       " 'played_sessions_total',\n",
       " 'played_activity_total',\n",
       " 'days_customer_with_sparkify',\n",
       " 'days_active_vs_days_total']"
      ]
     },
     "execution_count": 71,
     "metadata": {},
     "output_type": "execute_result"
    }
   ],
   "source": [
    "features_to_include_2"
   ]
  },
  {
   "cell_type": "code",
   "execution_count": 72,
   "metadata": {},
   "outputs": [],
   "source": [
    "assembler = VectorAssembler(inputCols=features_to_include_2, outputCol=\"Features\")\n",
    "data = assembler.transform(user_agg)"
   ]
  },
  {
   "cell_type": "code",
   "execution_count": 73,
   "metadata": {},
   "outputs": [],
   "source": [
    "scaler = StandardScaler(inputCol=\"Features\", outputCol=\"ScaledFeatures\", withStd=True)\n",
    "scalerModel = scaler.fit(data)\n",
    "data = scalerModel.transform(data)"
   ]
  },
  {
   "cell_type": "code",
   "execution_count": 74,
   "metadata": {},
   "outputs": [],
   "source": [
    "data = data.select(data.churn.alias(\"label\"), data.ScaledFeatures.alias(\"features\"))"
   ]
  },
  {
   "cell_type": "code",
   "execution_count": 75,
   "metadata": {},
   "outputs": [],
   "source": [
    "train, test = data.randomSplit([0.7, 0.3], seed=0)"
   ]
  },
  {
   "cell_type": "code",
   "execution_count": 77,
   "metadata": {},
   "outputs": [],
   "source": [
    "dt = DecisionTreeClassifier()\n",
    "paramGrid = ParamGridBuilder() \\\n",
    "    .addGrid(dt.impurity,['entropy', 'gini']) \\\n",
    "    .addGrid(dt.maxDepth,[2,3,4,5,6,7,8]) \\\n",
    "    .build()\n",
    "\n",
    "crossval_dt = CrossValidator(estimator=dt,\n",
    "                          estimatorParamMaps=paramGrid,\n",
    "                          evaluator=MulticlassClassificationEvaluator(),\n",
    "                          numFolds=3)\n",
    "\n",
    "cvModel_dt = crossval_dt.fit(train)"
   ]
  },
  {
   "cell_type": "code",
   "execution_count": 78,
   "metadata": {},
   "outputs": [],
   "source": [
    "cvModel_dt.write().overwrite().save('cvModel_dt_feature_less.model')"
   ]
  },
  {
   "cell_type": "code",
   "execution_count": 79,
   "metadata": {},
   "outputs": [],
   "source": [
    "results_dt = cvModel_dt.transform(test)"
   ]
  },
  {
   "cell_type": "code",
   "execution_count": 80,
   "metadata": {},
   "outputs": [
    {
     "name": "stdout",
     "output_type": "stream",
     "text": [
      "pricesion is 0.6875, recall is 0.8461538461538461, f1 score is 0.7586206896551724\n"
     ]
    }
   ],
   "source": [
    "tp = results_dt.filter(\"label = 1 and prediction = 1.0\").count()\n",
    "fp = results_dt.filter(\"label = 0 and prediction = 1.0\").count()\n",
    "fn = results_dt.filter(\"label = 1 and prediction = 0.0\").count()\n",
    "precision = tp / (tp + fp) \n",
    "recall = tp / (tp + fn)\n",
    "f1 = 2*precision*recall / (precision+recall)\n",
    "print(f\"pricesion is {precision}, recall is {recall}, f1 score is {f1}\")"
   ]
  },
  {
   "cell_type": "code",
   "execution_count": 81,
   "metadata": {},
   "outputs": [
    {
     "name": "stdout",
     "output_type": "stream",
     "text": [
      "+-----+--------------------+-------------+--------------------+----------+\n",
      "|label|            features|rawPrediction|         probability|prediction|\n",
      "+-----+--------------------+-------------+--------------------+----------+\n",
      "|    0|[3.09605633144509...|   [83.0,4.0]|[0.95402298850574...|       0.0|\n",
      "|    0|[4.31047430589324...|   [83.0,4.0]|[0.95402298850574...|       0.0|\n",
      "|    0|[4.52840460917592...|   [83.0,4.0]|[0.95402298850574...|       0.0|\n",
      "|    0|[5.29046797482494...|   [83.0,4.0]|[0.95402298850574...|       0.0|\n",
      "|    1|[4.58711267588198...|  [19.0,33.0]|[0.36538461538461...|       1.0|\n",
      "+-----+--------------------+-------------+--------------------+----------+\n",
      "only showing top 5 rows\n",
      "\n"
     ]
    }
   ],
   "source": [
    "results_dt.show(5)"
   ]
  },
  {
   "cell_type": "markdown",
   "metadata": {},
   "source": [
    "# Results"
   ]
  },
  {
   "cell_type": "markdown",
   "metadata": {},
   "source": [
    "Model 1 — Logistic regression we have tried grid search with alpha (0.5, 1.0) and lambda (0.5, 1.0). However it seems the model has not yet converged thus we have tried another set of parameters alpha (0.1, 0.3) and lambda (0.1, 0.3). Due to the slowness of the machine, we could not really perform too complicated grid search.\n",
    "\n",
    "```\n",
    "pricesion is 1.0, recall is 0.15, f1 score is 0.27\n",
    "```\n",
    "This model is predicting quite bad. It has wrongly labeled customer as not churn. Thus the precision is high but recall is very low.\n",
    "\n",
    "Model 2 — Decision Tree\n",
    "```\n",
    "pricesion is 0.61, recall is 0.85, f1 score is 0.71\n",
    "```\n",
    "After we used Decision Tree, we have achieved above score. This means we are classifying more customer as churn more than we should. Thus, we have a high recall but low precision. The overall score is 0.71. This is still considered to be low performance comparing to our unbalanced data in a 23% churn prediction rate.\n"
   ]
  },
  {
   "cell_type": "markdown",
   "metadata": {},
   "source": [
    "# Conclusions\n",
    "\n",
    "Our project is to help Sparkify predict customer churn and improve services to reduce churn rate. After exploring data, modeling for predictions, and evaluating the performance of our model, we came into conclusions:\n",
    "* The Sparkify platform benchmarking to other companies like Spotify in Churn rate is 3-4% higher. This indicates we are working on meaningful improvements for the company.\n",
    "* We have provided meaningful data processing and transformation pipeline using spark SQL functions. This largely leveraged MapReduce methodology to produce features using multiple map-reduced attributes to feed into our model.\n",
    "* The features we developed to help with the churn prediction is providing meaningful output from the model.\n",
    "* We have implemented two machine learning models from PySpark ML library and we have chosen one with better performance.\n",
    "\n",
    "This project will help to shape the future steps in discovering improvement factors to better minimizing customer churn.\n",
    "\n",
    "# Challenges\n",
    "The machine learning approach and result accuracy is not very satisfying. This means, we could not use the input features to explain well the customer churn behavior. It may requires further engineering on the feature or even bringing in new datasets to answer the question. In summary, the churn activities are highly human related. There are many factors influencing customer decision like competitor discounting, music availability in total, internet speed, customer listening pattern. All of these are outside of our dataset in our current modeling. "
   ]
  },
  {
   "cell_type": "markdown",
   "metadata": {},
   "source": [
    "# Future Work and improvements\n",
    "* Deploy the model on AWS EMR to test performance on larger data.\n",
    "* Discover external data on scenarios where a person listens to Sparkify. This may have a potential strong impact on the churn. (For example, if a person only listens to music on Sparkify during commuting. And due to the global pandemic he/she do not need to commute to work. Then we could expect high churn.)"
   ]
  },
  {
   "cell_type": "markdown",
   "metadata": {},
   "source": [
    "# Final Steps\n",
    "Clean up your code, adding comments and renaming variables to make the code easier to read and maintain. Refer to the Spark Project Overview page and Data Scientist Capstone Project Rubric to make sure you are including all components of the capstone project and meet all expectations. Remember, this includes thorough documentation in a README file in a Github repository, as well as a web app or blog post."
   ]
  },
  {
   "cell_type": "markdown",
   "metadata": {},
   "source": [
    "# Acknowledgements & References\n",
    "* Thanks to Udacity teaching and reviewing team. I enjoyed the course a lot. link: https://www.udacity.com/course/data-scientist-nanodegree--nd025\n",
    "* Some Customer Churn analysis blog posts that helped me:\n",
    "  * https://mapr.com/blog/churn-prediction-pyspark-using-mllib-and-ml-packages/\n",
    "  * https://spark.apache.org/docs/latest/ml-classification-regression.html\n",
    "  * https://www.statista.com/statistics/241424/dau-and-mau-of-spotifys-facebook-app/"
   ]
  }
 ],
 "metadata": {
  "kernelspec": {
   "display_name": "Python 3",
   "language": "python",
   "name": "python3"
  },
  "language_info": {
   "codemirror_mode": {
    "name": "ipython",
    "version": 3
   },
   "file_extension": ".py",
   "mimetype": "text/x-python",
   "name": "python",
   "nbconvert_exporter": "python",
   "pygments_lexer": "ipython3",
   "version": "3.6.3"
  }
 },
 "nbformat": 4,
 "nbformat_minor": 2
}
