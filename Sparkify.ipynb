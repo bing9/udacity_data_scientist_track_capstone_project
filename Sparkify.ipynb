{
 "cells": [
  {
   "cell_type": "markdown",
   "metadata": {},
   "source": [
    "# Sparkify Project Workspace\n",
    "This workspace contains a tiny subset (128MB) of the full dataset available (12GB). Feel free to use this workspace to build your project, or to explore a smaller subset with Spark before deploying your cluster on the cloud. Instructions for setting up your Spark cluster is included in the last lesson of the Extracurricular Spark Course content.\n",
    "\n",
    "You can follow the steps below to guide your data analysis and model building portion of this project."
   ]
  },
  {
   "cell_type": "code",
   "execution_count": null,
   "metadata": {},
   "outputs": [],
   "source": [
    "# import libraries\n",
    "import pandas as pd\n",
    "from pyspark.sql.functions import avg, col, concat, desc, explode, lit, min, max, split, udf, isnull, sum, countDistinct, count\n",
    "import pyspark.sql.functions as sf\n",
    "from pyspark.sql import Window\n",
    "from pyspark.sql.types import IntegerType, NullType\n",
    "import datetime\n",
    "\n",
    "from pyspark.ml import Pipeline\n",
    "from pyspark.ml.classification import LogisticRegression\n",
    "from pyspark.ml.feature import VectorAssembler, StandardScaler\n",
    "from pyspark.ml.evaluation import MulticlassClassificationEvaluator\n",
    "from pyspark.ml.tuning import CrossValidator, ParamGridBuilder\n",
    "\n",
    "import seaborn as sns\n",
    "%matplotlib inline\n",
    "plt.rcParams[\"figure.figsize\"] = (20,3)\n",
    "sns.set_style('whitegrid')\n",
    "import matplotlib.pyplot as plt"
   ]
  },
  {
   "cell_type": "code",
   "execution_count": 2,
   "metadata": {},
   "outputs": [],
   "source": [
    "# create a Spark session\n",
    "from pyspark.sql import SparkSession\n",
    "spark = SparkSession \\\n",
    "    .builder \\\n",
    "    .appName(\"Sparkify\") \\\n",
    "    .getOrCreate()"
   ]
  },
  {
   "cell_type": "markdown",
   "metadata": {},
   "source": [
    "# Load and Clean Dataset\n",
    "In this workspace, the mini-dataset file is `mini_sparkify_event_data.json`. Load and clean the dataset, checking for invalid or missing data - for example, records without userids or sessionids. "
   ]
  },
  {
   "cell_type": "code",
   "execution_count": 3,
   "metadata": {},
   "outputs": [
    {
     "name": "stdout",
     "output_type": "stream",
     "text": [
      "mini_sparkify_event_data.json  Sparkify-zh.ipynb\r\n",
      "Sparkify.ipynb\t\t       spark-warehouse\r\n"
     ]
    }
   ],
   "source": [
    "!ls"
   ]
  },
  {
   "cell_type": "code",
   "execution_count": 4,
   "metadata": {},
   "outputs": [
    {
     "data": {
      "text/plain": [
       "DataFrame[artist: string, auth: string, firstName: string, gender: string, itemInSession: bigint, lastName: string, length: double, level: string, location: string, method: string, page: string, registration: bigint, sessionId: bigint, song: string, status: bigint, ts: bigint, userAgent: string, userId: string]"
      ]
     },
     "execution_count": 4,
     "metadata": {},
     "output_type": "execute_result"
    }
   ],
   "source": [
    "# Read in full sparkify dataset\n",
    "# event_data = \"s3n://dsnd-sparkify/sparkify_event_data.json\"\n",
    "sparkify_data = 'mini_sparkify_event_data.json'\n",
    "df = spark.read.json(sparkify_data)\n",
    "df.persist()"
   ]
  },
  {
   "cell_type": "markdown",
   "metadata": {},
   "source": [
    "# Exploratory Data Analysis\n",
    "When you're working with the full dataset, perform EDA by loading a small subset of the data and doing basic manipulations within Spark. In this workspace, you are already provided a small subset of data you can explore.\n",
    "\n",
    "### Define Churn\n",
    "\n",
    "Once you've done some preliminary analysis, create a column `Churn` to use as the label for your model. I suggest using the `Cancellation Confirmation` events to define your churn, which happen for both paid and free users. As a bonus task, you can also look into the `Downgrade` events.\n",
    "\n",
    "### Explore Data\n",
    "Once you've defined churn, perform some exploratory data analysis to observe the behavior for users who stayed vs users who churned. You can start by exploring aggregates on these two groups of users, observing how much of a specific action they experienced per a certain time unit or number of songs played."
   ]
  },
  {
   "cell_type": "code",
   "execution_count": 5,
   "metadata": {},
   "outputs": [
    {
     "data": {
      "text/plain": [
       "DataFrame[summary: string, artist: string, auth: string, firstName: string, gender: string, itemInSession: string, lastName: string, length: string, level: string, location: string, method: string, page: string, registration: string, sessionId: string, song: string, status: string, ts: string, userAgent: string, userId: string]"
      ]
     },
     "execution_count": 5,
     "metadata": {},
     "output_type": "execute_result"
    }
   ],
   "source": [
    "df.describe()"
   ]
  },
  {
   "cell_type": "code",
   "execution_count": 6,
   "metadata": {},
   "outputs": [
    {
     "name": "stdout",
     "output_type": "stream",
     "text": [
      "root\n",
      " |-- artist: string (nullable = true)\n",
      " |-- auth: string (nullable = true)\n",
      " |-- firstName: string (nullable = true)\n",
      " |-- gender: string (nullable = true)\n",
      " |-- itemInSession: long (nullable = true)\n",
      " |-- lastName: string (nullable = true)\n",
      " |-- length: double (nullable = true)\n",
      " |-- level: string (nullable = true)\n",
      " |-- location: string (nullable = true)\n",
      " |-- method: string (nullable = true)\n",
      " |-- page: string (nullable = true)\n",
      " |-- registration: long (nullable = true)\n",
      " |-- sessionId: long (nullable = true)\n",
      " |-- song: string (nullable = true)\n",
      " |-- status: long (nullable = true)\n",
      " |-- ts: long (nullable = true)\n",
      " |-- userAgent: string (nullable = true)\n",
      " |-- userId: string (nullable = true)\n",
      "\n"
     ]
    }
   ],
   "source": [
    "df.printSchema()"
   ]
  },
  {
   "cell_type": "code",
   "execution_count": 7,
   "metadata": {},
   "outputs": [],
   "source": [
    "df.createOrReplaceTempView(\"churn_data\")"
   ]
  },
  {
   "cell_type": "code",
   "execution_count": 8,
   "metadata": {
    "scrolled": true
   },
   "outputs": [
    {
     "name": "stdout",
     "output_type": "stream",
     "text": [
      "+--------------------+\n",
      "|                page|\n",
      "+--------------------+\n",
      "|              Cancel|\n",
      "|    Submit Downgrade|\n",
      "|         Thumbs Down|\n",
      "|                Home|\n",
      "|           Downgrade|\n",
      "|         Roll Advert|\n",
      "|              Logout|\n",
      "|       Save Settings|\n",
      "|Cancellation Conf...|\n",
      "|               About|\n",
      "| Submit Registration|\n",
      "|            Settings|\n",
      "|               Login|\n",
      "|            Register|\n",
      "|     Add to Playlist|\n",
      "|          Add Friend|\n",
      "|            NextSong|\n",
      "|           Thumbs Up|\n",
      "|                Help|\n",
      "|             Upgrade|\n",
      "+--------------------+\n",
      "only showing top 20 rows\n",
      "\n"
     ]
    }
   ],
   "source": [
    "spark.sql(\"SELECT distinct page FROM churn_data\").show()"
   ]
  },
  {
   "cell_type": "code",
   "execution_count": 9,
   "metadata": {},
   "outputs": [],
   "source": [
    "# Defining Churn customer by field cancellation confirmation"
   ]
  },
  {
   "cell_type": "code",
   "execution_count": 10,
   "metadata": {
    "scrolled": true
   },
   "outputs": [
    {
     "name": "stdout",
     "output_type": "stream",
     "text": [
      "+------+-----+\n",
      "|userID|churn|\n",
      "+------+-----+\n",
      "|100005|    1|\n",
      "|300007|    1|\n",
      "|100011|    1|\n",
      "|100012|    1|\n",
      "|   101|    1|\n",
      "+------+-----+\n",
      "only showing top 5 rows\n",
      "\n"
     ]
    }
   ],
   "source": [
    "# Firstly write query to find the customers having cancellation confirmatio\n",
    "spark.sql(\"\"\"SELECT DISTINCT userID, 1 as churn\n",
    "          FROM churn_data\n",
    "        WHERE page = 'Cancellation Confirmation' \"\"\").show(5)"
   ]
  },
  {
   "cell_type": "code",
   "execution_count": 11,
   "metadata": {
    "scrolled": true
   },
   "outputs": [],
   "source": [
    "# Then join it back to the original datasets with defined churn\n",
    "churn_data = spark.sql(\"\"\"\n",
    "SELECT sq1.*, sq2.churn\n",
    "\n",
    "FROM churn_data as sq1\n",
    "\n",
    "left join \n",
    "(\n",
    "SELECT DISTINCT userID, 1 as churn\n",
    "          FROM churn_data\n",
    "        WHERE page = 'Cancellation Confirmation') as sq2\n",
    "\n",
    "on sq1.userID = sq2.userID\"\"\")"
   ]
  },
  {
   "cell_type": "code",
   "execution_count": 12,
   "metadata": {},
   "outputs": [],
   "source": [
    "churn_data = churn_data.fillna(0, subset = ['churn'])"
   ]
  },
  {
   "cell_type": "code",
   "execution_count": 13,
   "metadata": {},
   "outputs": [
    {
     "name": "stdout",
     "output_type": "stream",
     "text": [
      "+-----+------+\n",
      "|churn| count|\n",
      "+-----+------+\n",
      "|    1| 44864|\n",
      "|    0|241636|\n",
      "+-----+------+\n",
      "\n"
     ]
    }
   ],
   "source": [
    "churn_data.groupby('churn').count().show()"
   ]
  },
  {
   "cell_type": "markdown",
   "metadata": {},
   "source": [
    "## Convert timestamp to time"
   ]
  },
  {
   "cell_type": "code",
   "execution_count": 14,
   "metadata": {},
   "outputs": [],
   "source": [
    "get_time = udf(lambda x: datetime.datetime.fromtimestamp(x / 1000.0).strftime(\"%Y-%m-%d %H:%M:%S\"))\n",
    "get_date = udf(lambda x: datetime.datetime.fromtimestamp(x / 1000.0).strftime(\"%Y-%m-%d\"))\n",
    "churn_data = churn_data.withColumn(\"date_time\", get_time(churn_data.ts)).withColumn(\"date\", get_date(churn_data.ts))"
   ]
  },
  {
   "cell_type": "code",
   "execution_count": 15,
   "metadata": {},
   "outputs": [
    {
     "name": "stdout",
     "output_type": "stream",
     "text": [
      "+----------------+---------+---------+------+-------------+--------+---------+-----+--------------------+------+--------+-------------+---------+-----------------+------+-------------+--------------------+------+-----+-------------------+----------+\n",
      "|          artist|     auth|firstName|gender|itemInSession|lastName|   length|level|            location|method|    page| registration|sessionId|             song|status|           ts|           userAgent|userId|churn|          date_time|      date|\n",
      "+----------------+---------+---------+------+-------------+--------+---------+-----+--------------------+------+--------+-------------+---------+-----------------+------+-------------+--------------------+------+-----+-------------------+----------+\n",
      "|  Martha Tilston|Logged In|    Colin|     M|           50| Freeman|277.89016| paid|     Bakersfield, CA|   PUT|NextSong|1538173362000|       29|        Rockpools|   200|1538352117000|Mozilla/5.0 (Wind...|    30|    0|2018-10-01 00:01:57|2018-10-01|\n",
      "|Five Iron Frenzy|Logged In|    Micah|     M|           79|    Long|236.09424| free|Boston-Cambridge-...|   PUT|NextSong|1538331630000|        8|           Canada|   200|1538352180000|\"Mozilla/5.0 (Win...|     9|    0|2018-10-01 00:03:00|2018-10-01|\n",
      "|    Adam Lambert|Logged In|    Colin|     M|           51| Freeman| 282.8273| paid|     Bakersfield, CA|   PUT|NextSong|1538173362000|       29|Time For Miracles|   200|1538352394000|Mozilla/5.0 (Wind...|    30|    0|2018-10-01 00:06:34|2018-10-01|\n",
      "+----------------+---------+---------+------+-------------+--------+---------+-----+--------------------+------+--------+-------------+---------+-----------------+------+-------------+--------------------+------+-----+-------------------+----------+\n",
      "only showing top 3 rows\n",
      "\n"
     ]
    }
   ],
   "source": [
    "churn_data.show(3)"
   ]
  },
  {
   "cell_type": "markdown",
   "metadata": {},
   "source": [
    "## Drop Null Values"
   ]
  },
  {
   "cell_type": "code",
   "execution_count": 16,
   "metadata": {},
   "outputs": [
    {
     "data": {
      "text/plain": [
       "286500"
      ]
     },
     "execution_count": 16,
     "metadata": {},
     "output_type": "execute_result"
    }
   ],
   "source": [
    "churn_data.count()\n",
    "#Count before drop NA"
   ]
  },
  {
   "cell_type": "code",
   "execution_count": 17,
   "metadata": {},
   "outputs": [
    {
     "name": "stdout",
     "output_type": "stream",
     "text": [
      "+----------------+---------+---------+------+-------------+--------+---------+-----+--------------------+------+--------+-------------+---------+---------+------+-------------+--------------------+------+-----+-------------------+----------+\n",
      "|          artist|     auth|firstName|gender|itemInSession|lastName|   length|level|            location|method|    page| registration|sessionId|     song|status|           ts|           userAgent|userId|churn|          date_time|      date|\n",
      "+----------------+---------+---------+------+-------------+--------+---------+-----+--------------------+------+--------+-------------+---------+---------+------+-------------+--------------------+------+-----+-------------------+----------+\n",
      "|  Martha Tilston|Logged In|    Colin|     M|           50| Freeman|277.89016| paid|     Bakersfield, CA|   PUT|NextSong|1538173362000|       29|Rockpools|   200|1538352117000|Mozilla/5.0 (Wind...|    30|    0|2018-10-01 00:01:57|2018-10-01|\n",
      "|Five Iron Frenzy|Logged In|    Micah|     M|           79|    Long|236.09424| free|Boston-Cambridge-...|   PUT|NextSong|1538331630000|        8|   Canada|   200|1538352180000|\"Mozilla/5.0 (Win...|     9|    0|2018-10-01 00:03:00|2018-10-01|\n",
      "+----------------+---------+---------+------+-------------+--------+---------+-----+--------------------+------+--------+-------------+---------+---------+------+-------------+--------------------+------+-----+-------------------+----------+\n",
      "only showing top 2 rows\n",
      "\n"
     ]
    }
   ],
   "source": [
    "churn_data.show(2)"
   ]
  },
  {
   "cell_type": "code",
   "execution_count": 18,
   "metadata": {},
   "outputs": [
    {
     "data": {
      "text/plain": [
       "DataFrame[artist: string, auth: string, firstName: string, gender: string, itemInSession: bigint, lastName: string, length: double, level: string, location: string, method: string, page: string, registration: bigint, sessionId: bigint, song: string, status: bigint, ts: bigint, userAgent: string, userId: string, churn: int, date_time: string, date: string]"
      ]
     },
     "execution_count": 18,
     "metadata": {},
     "output_type": "execute_result"
    }
   ],
   "source": [
    "churn_data.dropna(how = \"any\")"
   ]
  },
  {
   "cell_type": "code",
   "execution_count": 19,
   "metadata": {},
   "outputs": [
    {
     "data": {
      "text/plain": [
       "286500"
      ]
     },
     "execution_count": 19,
     "metadata": {},
     "output_type": "execute_result"
    }
   ],
   "source": [
    "churn_data.count()\n",
    "#Count after drop NA"
   ]
  },
  {
   "cell_type": "markdown",
   "metadata": {},
   "source": [
    "# Feature Engineering\n",
    "Once you've familiarized yourself with the data, build out the features you find promising to train your model on. To work with the full dataset, you can follow the following steps.\n",
    "- Write a script to extract the necessary features from the smaller subset of data\n",
    "- Ensure that your script is scalable, using the best practices discussed in Lesson 3\n",
    "- Try your script on the full data set, debugging your script if necessary\n",
    "\n",
    "If you are working in the classroom workspace, you can just extract features based on the small subset of data contained here. Be sure to transfer over this work to the larger dataset when you work on your Spark cluster."
   ]
  },
  {
   "cell_type": "markdown",
   "metadata": {},
   "source": [
    "## Feature Engineering logic\n",
    "What are the potential reason for churn and encorporate these features in the model to predict the customer churn:\n",
    "1. Customer taste and availability of music\n",
    "    * - If the customer liked/ listened mostly popular music (played by large amount of people). Then this customer more likely find sons he/she likes in the platform. This needs then below features:\n",
    "    * - Song total played by number of times\n",
    "    * - Song total played by number of people\n",
    "2. Customer lock-in (if customer has spent already a lot of time in Sparkify, it become difficult to change platform.)\n",
    "    * - How many days have the customer been with the platform (Max timestamp - min timestamp)\n",
    "    * - How many active days the customer with the platform (Count distinct timestamp days)\n",
    "    * - Days active/ Days total\n",
    "    * - Customer played songs total\n",
    "3. Other existing features to convert to numeric\n",
    "    * - Gender\n",
    "    * - Free or Paid customer"
   ]
  },
  {
   "cell_type": "code",
   "execution_count": 20,
   "metadata": {},
   "outputs": [
    {
     "data": {
      "text/plain": [
       "DataFrame[artist: string, auth: string, firstName: string, gender: string, itemInSession: bigint, lastName: string, length: double, level: string, location: string, method: string, page: string, registration: bigint, sessionId: bigint, song: string, status: bigint, ts: bigint, userAgent: string, userId: string, churn: int, date_time: string, date: string]"
      ]
     },
     "execution_count": 20,
     "metadata": {},
     "output_type": "execute_result"
    }
   ],
   "source": [
    "churn_data.persist()"
   ]
  },
  {
   "cell_type": "markdown",
   "metadata": {},
   "source": [
    "### Feature 1 Customer Taste"
   ]
  },
  {
   "cell_type": "code",
   "execution_count": 21,
   "metadata": {},
   "outputs": [],
   "source": [
    "song_agg = churn_data.filter(churn_data.song != 'null').groupby(\"song\").agg(count(\"userId\").alias('number_of_played_times'), \n",
    "                                         countDistinct(\"userId\").alias('number_of_played_users'))"
   ]
  },
  {
   "cell_type": "code",
   "execution_count": 22,
   "metadata": {},
   "outputs": [
    {
     "name": "stdout",
     "output_type": "stream",
     "text": [
      "+--------------------+----------------------+----------------------+\n",
      "|                song|number_of_played_times|number_of_played_users|\n",
      "+--------------------+----------------------+----------------------+\n",
      "|              Heaven|                    86|                    58|\n",
      "|Never Gonna Be Al...|                    50|                    37|\n",
      "|Autumn Leaves (Al...|                     3|                     3|\n",
      "|             Sitting|                    17|                    16|\n",
      "|What's About To G...|                     1|                     1|\n",
      "+--------------------+----------------------+----------------------+\n",
      "only showing top 5 rows\n",
      "\n"
     ]
    }
   ],
   "source": [
    "song_agg.show(5)"
   ]
  },
  {
   "cell_type": "code",
   "execution_count": 23,
   "metadata": {},
   "outputs": [],
   "source": [
    "churn_data_w_song_attribute = churn_data.join(song_agg, churn_data.song == song_agg.song, how = 'left').drop(song_agg.song)"
   ]
  },
  {
   "cell_type": "code",
   "execution_count": 24,
   "metadata": {
    "scrolled": false
   },
   "outputs": [
    {
     "name": "stdout",
     "output_type": "stream",
     "text": [
      "+-------------+---------+---------+------+-------------+--------+---------+-----+--------------------+------+--------+-------------+---------+------+-------------+--------------------+------+-----+-------------------+----------+--------------------+----------------------+----------------------+\n",
      "|       artist|     auth|firstName|gender|itemInSession|lastName|   length|level|            location|method|    page| registration|sessionId|status|           ts|           userAgent|userId|churn|          date_time|      date|                song|number_of_played_times|number_of_played_users|\n",
      "+-------------+---------+---------+------+-------------+--------+---------+-----+--------------------+------+--------+-------------+---------+------+-------------+--------------------+------+-----+-------------------+----------+--------------------+----------------------+----------------------+\n",
      "|Skeeter Davis|Logged In|  Dominic|     M|          126|  Torres|155.21914| paid|Chicago-Napervill...|   PUT|NextSong|1536269906000|      163|   200|1539871589000|\"Mozilla/5.0 (iPh...|200002|    0|2018-10-18 14:06:29|2018-10-18|(I Can't Help You...|                     1|                     1|\n",
      "|Parkway Drive|Logged In|  Destiny|     F|          115| Herring| 74.89261| free|Miami-Fort Lauder...|   PUT|NextSong|1536844410000|      947|   200|1539906266000|\"Mozilla/5.0 (Win...|    20|    0|2018-10-18 23:44:26|2018-10-18|                 ...|                     2|                     2|\n",
      "|          Wax|Logged In|   Teagan|     F|           12| Roberts| 41.01179| free|New Philadelphia-...|   PUT|NextSong|1537634865000|     1048|   200|1540068238000|Mozilla/5.0 (Wind...|    28|    1|2018-10-20 20:43:58|2018-10-20|                 ...|                     2|                     2|\n",
      "|      Pantera|Logged In|   Autumn|     F|          155|  Martin|336.32608| paid|     Gainesville, FL|   PUT|NextSong|1537749786000|      332|   200|1539141569000|\"Mozilla/5.0 (Win...|    77|    0|2018-10-10 03:19:29|2018-10-10|5 Minutes Alone [...|                     6|                     5|\n",
      "|      Pantera|Logged In|  Freedom|     F|          184| Aguilar|336.32608| paid|Charlotte-Concord...|   PUT|NextSong|1537034286000|     1063|   200|1540098952000|\"Mozilla/5.0 (Mac...|   136|    0|2018-10-21 05:15:52|2018-10-21|5 Minutes Alone [...|                     6|                     5|\n",
      "+-------------+---------+---------+------+-------------+--------+---------+-----+--------------------+------+--------+-------------+---------+------+-------------+--------------------+------+-----+-------------------+----------+--------------------+----------------------+----------------------+\n",
      "only showing top 5 rows\n",
      "\n"
     ]
    }
   ],
   "source": [
    "churn_data_w_song_attribute.show(5)"
   ]
  },
  {
   "cell_type": "markdown",
   "metadata": {},
   "source": [
    "### F2 Feature Customer Lock-in"
   ]
  },
  {
   "cell_type": "code",
   "execution_count": 25,
   "metadata": {},
   "outputs": [],
   "source": [
    "# Function to return null when 0.\n",
    "nullif = udf(lambda x: None if x ==0 else x, IntegerType())\n",
    "\n",
    "user_agg = churn_data_w_song_attribute.groupby(\"userId\").agg(min(\"ts\").alias('min_timestamp'), \n",
    "    max(\"ts\").alias('max_timestamp'), avg(\"number_of_played_times\").alias('avg_nbr_of_played_times'),\n",
    "    avg(\"number_of_played_users\").alias('avg_nbr_of_played_users'),\n",
    "    countDistinct(\"date\").alias('days_customer_active'), countDistinct(\"song\").alias('played_songs_total'),\n",
    "    countDistinct(\"sessionId\").alias('played_sessions_total'), count(\"userId\").alias('played_activity_total') )\\\n",
    "    .withColumn(\n",
    "            'days_customer_with_sparkify', \n",
    "            ((col(\"max_timestamp\") - col(\"min_timestamp\") ) /(1000*60*60*24)).cast(IntegerType())  + 1  )\\\n",
    "    .withColumn('days_active_vs_days_total', \n",
    "              ( col(\"days_customer_active\")/ nullif(col(\"days_customer_with_sparkify\") ) ) )"
   ]
  },
  {
   "cell_type": "code",
   "execution_count": 26,
   "metadata": {
    "scrolled": false
   },
   "outputs": [
    {
     "name": "stdout",
     "output_type": "stream",
     "text": [
      "+------+-------------+-------------+-----------------------+-----------------------+--------------------+------------------+---------------------+---------------------+---------------------------+-------------------------+\n",
      "|userId|min_timestamp|max_timestamp|avg_nbr_of_played_times|avg_nbr_of_played_users|days_customer_active|played_songs_total|played_sessions_total|played_activity_total|days_customer_with_sparkify|days_active_vs_days_total|\n",
      "+------+-------------+-------------+-----------------------+-----------------------+--------------------+------------------+---------------------+---------------------+---------------------------+-------------------------+\n",
      "|100010|1539003534000|1542823952000|      56.27272727272727|      26.62181818181818|                   7|               269|                    7|                  381|                         45|      0.15555555555555556|\n",
      "|200002|1538393430000|1542324354000|      35.75968992248062|      21.10594315245478|                   7|               378|                    6|                  474|                         46|      0.15217391304347827|\n",
      "|   125|1539317144000|1539318918000|                 12.625|                 11.375|                   1|                 8|                    1|                   11|                          1|                      1.0|\n",
      "|    51|1538398632000|1539761972000|      57.09047844623401|     25.290857413548082|                  13|              1854|                   10|                 2464|                         16|                   0.8125|\n",
      "|   124|1538407030000|1543590766000|     54.220397156165724|     25.104437362098555|                  33|              3339|                   29|                 4825|                         60|                     0.55|\n",
      "+------+-------------+-------------+-----------------------+-----------------------+--------------------+------------------+---------------------+---------------------+---------------------------+-------------------------+\n",
      "only showing top 5 rows\n",
      "\n"
     ]
    }
   ],
   "source": [
    "user_agg.show(5)"
   ]
  },
  {
   "cell_type": "markdown",
   "metadata": {},
   "source": [
    "### F3 Other Features from Existing data"
   ]
  },
  {
   "cell_type": "code",
   "execution_count": 27,
   "metadata": {},
   "outputs": [
    {
     "name": "stdout",
     "output_type": "stream",
     "text": [
      "+------+------+\n",
      "|gender| count|\n",
      "+------+------+\n",
      "|     F|154578|\n",
      "|  null|  8346|\n",
      "|     M|123576|\n",
      "+------+------+\n",
      "\n"
     ]
    }
   ],
   "source": [
    "churn_data_w_song_attribute.groupby('gender').count().show()"
   ]
  },
  {
   "cell_type": "code",
   "execution_count": 28,
   "metadata": {},
   "outputs": [
    {
     "name": "stdout",
     "output_type": "stream",
     "text": [
      "+-----+------+\n",
      "|level| count|\n",
      "+-----+------+\n",
      "| free| 58338|\n",
      "| paid|228162|\n",
      "+-----+------+\n",
      "\n"
     ]
    }
   ],
   "source": [
    "churn_data_w_song_attribute.groupby('level').count().show()"
   ]
  },
  {
   "cell_type": "code",
   "execution_count": 30,
   "metadata": {},
   "outputs": [],
   "source": [
    "# Function to return null when 0.\n",
    "nullif = udf(lambda x: None if x ==0 else x, IntegerType())\n",
    "gender_convert = udf(lambda x: 1 if x =='M' else 0, IntegerType())\n",
    "free_paid_convert = udf(lambda x: 1 if x =='free' else 0, IntegerType())\n",
    "\n",
    "user_agg = churn_data_w_song_attribute.withColumn('gender_conv', gender_convert(col(\"gender\")))\\\n",
    "    .withColumn('level_conv', free_paid_convert(col(\"level\")))\\\n",
    "    .groupby(\"userId\").agg(min(\"ts\").alias('min_timestamp'), \n",
    "            max(\"ts\").alias('max_timestamp'), avg(\"number_of_played_times\").alias('avg_nbr_of_played_times'),\n",
    "            avg(\"number_of_played_users\").alias('avg_nbr_of_played_users'),\n",
    "            avg(\"gender_conv\").alias('gender'),\n",
    "            avg(\"level_conv\").alias('level_conv'),\n",
    "            countDistinct(\"date\").alias('days_customer_active'), countDistinct(\"song\").alias('played_songs_total'),\n",
    "            countDistinct(\"sessionId\").alias('played_sessions_total'), count(\"userId\").alias('played_activity_total'), \n",
    "            max(\"churn\").alias('churn'))\\\n",
    "    .withColumn(\n",
    "            'days_customer_with_sparkify', \n",
    "            ((col(\"max_timestamp\") - col(\"min_timestamp\") ) /(1000*60*60*24)).cast(IntegerType())  + 1  )\\\n",
    "    .withColumn('days_active_vs_days_total', \n",
    "              ( col(\"days_customer_active\")/ nullif(col(\"days_customer_with_sparkify\") ) ) )"
   ]
  },
  {
   "cell_type": "code",
   "execution_count": 31,
   "metadata": {},
   "outputs": [
    {
     "name": "stdout",
     "output_type": "stream",
     "text": [
      "+------+-------------+-------------+-----------------------+-----------------------+------+-------------------+--------------------+------------------+---------------------+---------------------+-----+---------------------------+-------------------------+\n",
      "|userId|min_timestamp|max_timestamp|avg_nbr_of_played_times|avg_nbr_of_played_users|gender|         level_conv|days_customer_active|played_songs_total|played_sessions_total|played_activity_total|churn|days_customer_with_sparkify|days_active_vs_days_total|\n",
      "+------+-------------+-------------+-----------------------+-----------------------+------+-------------------+--------------------+------------------+---------------------+---------------------+-----+---------------------------+-------------------------+\n",
      "|100010|1539003534000|1542823952000|      56.27272727272727|      26.62181818181818|   0.0|                1.0|                   7|               269|                    7|                  381|    0|                         45|      0.15555555555555556|\n",
      "|200002|1538393430000|1542324354000|      35.75968992248062|      21.10594315245478|   1.0|0.25316455696202533|                   7|               378|                    6|                  474|    0|                         46|      0.15217391304347827|\n",
      "|   125|1539317144000|1539318918000|                 12.625|                 11.375|   1.0|                1.0|                   1|                 8|                    1|                   11|    1|                          1|                      1.0|\n",
      "|    51|1538398632000|1539761972000|      57.09047844623401|     25.290857413548082|   1.0|                0.0|                  13|              1854|                   10|                 2464|    1|                         16|                   0.8125|\n",
      "|   124|1538407030000|1543590766000|     54.220397156165724|     25.104437362098555|   0.0|                0.0|                  33|              3339|                   29|                 4825|    0|                         60|                     0.55|\n",
      "+------+-------------+-------------+-----------------------+-----------------------+------+-------------------+--------------------+------------------+---------------------+---------------------+-----+---------------------------+-------------------------+\n",
      "only showing top 5 rows\n",
      "\n"
     ]
    }
   ],
   "source": [
    "user_agg.show(5)"
   ]
  },
  {
   "cell_type": "markdown",
   "metadata": {},
   "source": [
    "# Modeling\n",
    "Split the full dataset into train, test, and validation sets. Test out several of the machine learning methods you learned. Evaluate the accuracy of the various models, tuning parameters as necessary. Determine your winning model based on test accuracy and report results on the validation set. Since the churned users are a fairly small subset, I suggest using F1 score as the metric to optimize."
   ]
  },
  {
   "cell_type": "markdown",
   "metadata": {},
   "source": [
    "## Use Logistic Regression to model the features to predict churn"
   ]
  },
  {
   "cell_type": "code",
   "execution_count": 32,
   "metadata": {},
   "outputs": [
    {
     "data": {
      "text/plain": [
       "DataFrame[userId: string, min_timestamp: bigint, max_timestamp: bigint, avg_nbr_of_played_times: double, avg_nbr_of_played_users: double, gender: double, level_conv: double, days_customer_active: bigint, played_songs_total: bigint, played_sessions_total: bigint, played_activity_total: bigint, churn: int, days_customer_with_sparkify: int, days_active_vs_days_total: double]"
      ]
     },
     "execution_count": 32,
     "metadata": {},
     "output_type": "execute_result"
    }
   ],
   "source": [
    "user_agg.persist()"
   ]
  },
  {
   "cell_type": "code",
   "execution_count": 42,
   "metadata": {},
   "outputs": [],
   "source": [
    "user_agg = user_agg.fillna(0)"
   ]
  },
  {
   "cell_type": "code",
   "execution_count": 34,
   "metadata": {},
   "outputs": [
    {
     "name": "stdout",
     "output_type": "stream",
     "text": [
      "root\n",
      " |-- userId: string (nullable = true)\n",
      " |-- min_timestamp: long (nullable = true)\n",
      " |-- max_timestamp: long (nullable = true)\n",
      " |-- avg_nbr_of_played_times: double (nullable = true)\n",
      " |-- avg_nbr_of_played_users: double (nullable = true)\n",
      " |-- gender: double (nullable = true)\n",
      " |-- level_conv: double (nullable = true)\n",
      " |-- days_customer_active: long (nullable = false)\n",
      " |-- played_songs_total: long (nullable = false)\n",
      " |-- played_sessions_total: long (nullable = false)\n",
      " |-- played_activity_total: long (nullable = false)\n",
      " |-- churn: integer (nullable = true)\n",
      " |-- days_customer_with_sparkify: integer (nullable = true)\n",
      " |-- days_active_vs_days_total: double (nullable = true)\n",
      "\n"
     ]
    }
   ],
   "source": [
    "user_agg.printSchema()"
   ]
  },
  {
   "cell_type": "code",
   "execution_count": 43,
   "metadata": {},
   "outputs": [],
   "source": [
    "features_to_include = user_agg.columns.copy()"
   ]
  },
  {
   "cell_type": "code",
   "execution_count": 44,
   "metadata": {},
   "outputs": [],
   "source": [
    "features_to_include.remove('userId')"
   ]
  },
  {
   "cell_type": "code",
   "execution_count": 45,
   "metadata": {},
   "outputs": [],
   "source": [
    "features_to_include.remove('churn')"
   ]
  },
  {
   "cell_type": "code",
   "execution_count": 46,
   "metadata": {},
   "outputs": [
    {
     "data": {
      "text/plain": [
       "['min_timestamp',\n",
       " 'max_timestamp',\n",
       " 'avg_nbr_of_played_times',\n",
       " 'avg_nbr_of_played_users',\n",
       " 'gender',\n",
       " 'level_conv',\n",
       " 'days_customer_active',\n",
       " 'played_songs_total',\n",
       " 'played_sessions_total',\n",
       " 'played_activity_total',\n",
       " 'days_customer_with_sparkify',\n",
       " 'days_active_vs_days_total']"
      ]
     },
     "execution_count": 46,
     "metadata": {},
     "output_type": "execute_result"
    }
   ],
   "source": [
    "features_to_include"
   ]
  },
  {
   "cell_type": "code",
   "execution_count": 47,
   "metadata": {},
   "outputs": [],
   "source": [
    "assembler = VectorAssembler(inputCols=features_to_include, outputCol=\"Features\")\n",
    "data = assembler.transform(user_agg)"
   ]
  },
  {
   "cell_type": "code",
   "execution_count": 48,
   "metadata": {},
   "outputs": [],
   "source": [
    "scaler = StandardScaler(inputCol=\"Features\", outputCol=\"ScaledFeatures\", withStd=True)\n",
    "scalerModel = scaler.fit(data)\n",
    "data = scalerModel.transform(data)"
   ]
  },
  {
   "cell_type": "code",
   "execution_count": 50,
   "metadata": {},
   "outputs": [],
   "source": [
    "data = data.select(data.churn.alias(\"label\"), data.ScaledFeatures.alias(\"features\"))"
   ]
  },
  {
   "cell_type": "code",
   "execution_count": 51,
   "metadata": {},
   "outputs": [],
   "source": [
    "train, test = data.randomSplit([0.7, 0.3], seed=0)"
   ]
  },
  {
   "cell_type": "code",
   "execution_count": null,
   "metadata": {},
   "outputs": [],
   "source": [
    "lrs =  LogisticRegression()\n",
    "\n",
    "paramGrid = ParamGridBuilder() \\\n",
    "    .addGrid(lrs.elasticNetParam,[0.0, 0.1, 0.5, 1.0]) \\\n",
    "    .addGrid(lrs.regParam,[0.0, 0.05, 0.1]) \\\n",
    "    .build()\n",
    "\n",
    "crossval_lrs = CrossValidator(estimator=lrs,\n",
    "                          estimatorParamMaps=paramGrid,\n",
    "                          evaluator=MulticlassClassificationEvaluator(),\n",
    "                          numFolds=3)\n",
    "\n",
    "cvModel_lrs = crossval_lrs.fit(train)\n",
    "\n",
    "cvModel_lrs.avgMetrics"
   ]
  },
  {
   "cell_type": "code",
   "execution_count": null,
   "metadata": {},
   "outputs": [],
   "source": [
    "results = cvModel_lrs.transform(test)"
   ]
  },
  {
   "cell_type": "code",
   "execution_count": null,
   "metadata": {},
   "outputs": [],
   "source": [
    "tp = results.filter(\"label = 1 and prediction = 1\").count()\n",
    "fp = results.filter(\"label = 0 and prediction = 1\").count()\n",
    "fn = results.filter(\"label = 1 and prediction = 0\").count()\n",
    "precision = tp / (tp + fp) \n",
    "recall = tp / (tp + fn)\n",
    "f1 = 2*precision*recall / (precision+recall)\n",
    "print(f\"pricesion is {precision}, recall is {recall}, f1 score is {f1}\")"
   ]
  },
  {
   "cell_type": "code",
   "execution_count": null,
   "metadata": {},
   "outputs": [],
   "source": [
    "list(zip(features_to_include, cvModel_lrs.bestModel.coefficients))"
   ]
  },
  {
   "cell_type": "markdown",
   "metadata": {},
   "source": [
    "# Results and Conclusions"
   ]
  },
  {
   "cell_type": "code",
   "execution_count": null,
   "metadata": {},
   "outputs": [],
   "source": []
  },
  {
   "cell_type": "markdown",
   "metadata": {},
   "source": [
    "# Final Steps\n",
    "Clean up your code, adding comments and renaming variables to make the code easier to read and maintain. Refer to the Spark Project Overview page and Data Scientist Capstone Project Rubric to make sure you are including all components of the capstone project and meet all expectations. Remember, this includes thorough documentation in a README file in a Github repository, as well as a web app or blog post."
   ]
  },
  {
   "cell_type": "code",
   "execution_count": null,
   "metadata": {},
   "outputs": [],
   "source": []
  }
 ],
 "metadata": {
  "kernelspec": {
   "display_name": "Python 3",
   "language": "python",
   "name": "python3"
  },
  "language_info": {
   "codemirror_mode": {
    "name": "ipython",
    "version": 3
   },
   "file_extension": ".py",
   "mimetype": "text/x-python",
   "name": "python",
   "nbconvert_exporter": "python",
   "pygments_lexer": "ipython3",
   "version": "3.6.3"
  }
 },
 "nbformat": 4,
 "nbformat_minor": 2
}
